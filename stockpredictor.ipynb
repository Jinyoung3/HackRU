{
  "nbformat": 4,
  "nbformat_minor": 0,
  "metadata": {
    "colab": {
      "provenance": [],
      "gpuType": "T4",
      "authorship_tag": "ABX9TyOu22u/XtUjx1lAWBlEhQoV",
      "include_colab_link": true
    },
    "kernelspec": {
      "name": "python3",
      "display_name": "Python 3"
    },
    "language_info": {
      "name": "python"
    },
    "accelerator": "GPU"
  },
  "cells": [
    {
      "cell_type": "markdown",
      "metadata": {
        "id": "view-in-github",
        "colab_type": "text"
      },
      "source": [
        "<a href=\"https://colab.research.google.com/github/Jinyoung3/HackRU/blob/master/stockpredictor.ipynb\" target=\"_parent\"><img src=\"https://colab.research.google.com/assets/colab-badge.svg\" alt=\"Open In Colab\"/></a>"
      ]
    },
    {
      "cell_type": "code",
      "execution_count": null,
      "metadata": {
        "colab": {
          "base_uri": "https://localhost:8080/"
        },
        "id": "KvIHunzI7Qne",
        "outputId": "89510e3a-0eab-4be6-a084-0ba3e9ddfadc"
      },
      "outputs": [
        {
          "output_type": "stream",
          "name": "stdout",
          "text": [
            "Requirement already satisfied: yfinance in /usr/local/lib/python3.10/dist-packages (0.2.31)\n",
            "Requirement already satisfied: pandas>=1.3.0 in /usr/local/lib/python3.10/dist-packages (from yfinance) (1.5.3)\n",
            "Requirement already satisfied: numpy>=1.16.5 in /usr/local/lib/python3.10/dist-packages (from yfinance) (1.23.5)\n",
            "Requirement already satisfied: requests>=2.31 in /usr/local/lib/python3.10/dist-packages (from yfinance) (2.31.0)\n",
            "Requirement already satisfied: multitasking>=0.0.7 in /usr/local/lib/python3.10/dist-packages (from yfinance) (0.0.11)\n",
            "Requirement already satisfied: lxml>=4.9.1 in /usr/local/lib/python3.10/dist-packages (from yfinance) (4.9.3)\n",
            "Requirement already satisfied: appdirs>=1.4.4 in /usr/local/lib/python3.10/dist-packages (from yfinance) (1.4.4)\n",
            "Requirement already satisfied: pytz>=2022.5 in /usr/local/lib/python3.10/dist-packages (from yfinance) (2023.3.post1)\n",
            "Requirement already satisfied: frozendict>=2.3.4 in /usr/local/lib/python3.10/dist-packages (from yfinance) (2.3.8)\n",
            "Requirement already satisfied: peewee>=3.16.2 in /usr/local/lib/python3.10/dist-packages (from yfinance) (3.17.0)\n",
            "Requirement already satisfied: beautifulsoup4>=4.11.1 in /usr/local/lib/python3.10/dist-packages (from yfinance) (4.11.2)\n",
            "Requirement already satisfied: html5lib>=1.1 in /usr/local/lib/python3.10/dist-packages (from yfinance) (1.1)\n",
            "Requirement already satisfied: soupsieve>1.2 in /usr/local/lib/python3.10/dist-packages (from beautifulsoup4>=4.11.1->yfinance) (2.5)\n",
            "Requirement already satisfied: six>=1.9 in /usr/local/lib/python3.10/dist-packages (from html5lib>=1.1->yfinance) (1.16.0)\n",
            "Requirement already satisfied: webencodings in /usr/local/lib/python3.10/dist-packages (from html5lib>=1.1->yfinance) (0.5.1)\n",
            "Requirement already satisfied: python-dateutil>=2.8.1 in /usr/local/lib/python3.10/dist-packages (from pandas>=1.3.0->yfinance) (2.8.2)\n",
            "Requirement already satisfied: charset-normalizer<4,>=2 in /usr/local/lib/python3.10/dist-packages (from requests>=2.31->yfinance) (3.3.2)\n",
            "Requirement already satisfied: idna<4,>=2.5 in /usr/local/lib/python3.10/dist-packages (from requests>=2.31->yfinance) (3.4)\n",
            "Requirement already satisfied: urllib3<3,>=1.21.1 in /usr/local/lib/python3.10/dist-packages (from requests>=2.31->yfinance) (2.0.7)\n",
            "Requirement already satisfied: certifi>=2017.4.17 in /usr/local/lib/python3.10/dist-packages (from requests>=2.31->yfinance) (2023.7.22)\n"
          ]
        }
      ],
      "source": [
        "!pip install yfinance"
      ]
    },
    {
      "cell_type": "code",
      "source": [
        "import pandas as pd\n",
        "import numpy as np\n",
        "import matplotlib.pyplot as plt\n",
        "import seaborn\n",
        "import yfinance as yf\n",
        "import tensorflow as tf\n",
        "from tensorflow import keras\n",
        "from keras.models import Sequential\n",
        "from keras.layers import Dense, Dropout, SimpleRNN, LSTM, GRU\n",
        "from sklearn.model_selection import train_test_split\n",
        "\n",
        "%matplotlib inline"
      ],
      "metadata": {
        "id": "qkBOSLx6-r2E"
      },
      "execution_count": null,
      "outputs": []
    },
    {
      "cell_type": "code",
      "source": [
        "company = 'NFLX'\n",
        "stock_data = yf.Ticker(company)\n",
        "stock_history = stock_data.history(period='max', interval='1d')\n",
        "stock_history"
      ],
      "metadata": {
        "colab": {
          "base_uri": "https://localhost:8080/",
          "height": 455
        },
        "id": "pUAryuMu_LqH",
        "outputId": "f45895a9-ad89-46bd-86e1-d6dd06e4cbdc"
      },
      "execution_count": null,
      "outputs": [
        {
          "output_type": "execute_result",
          "data": {
            "text/plain": [
              "                                 Open        High         Low       Close  \\\n",
              "Date                                                                        \n",
              "2002-05-23 00:00:00-04:00    1.156429    1.242857    1.145714    1.196429   \n",
              "2002-05-24 00:00:00-04:00    1.214286    1.225000    1.197143    1.210000   \n",
              "2002-05-28 00:00:00-04:00    1.213571    1.232143    1.157143    1.157143   \n",
              "2002-05-29 00:00:00-04:00    1.164286    1.164286    1.085714    1.103571   \n",
              "2002-05-30 00:00:00-04:00    1.107857    1.107857    1.071429    1.071429   \n",
              "...                               ...         ...         ...         ...   \n",
              "2023-11-17 00:00:00-05:00  466.950012  467.649994  462.760010  465.910004   \n",
              "2023-11-20 00:00:00-05:00  465.399994  476.760010  465.399994  474.470001   \n",
              "2023-11-21 00:00:00-05:00  472.630005  477.019989  471.209991  474.950012   \n",
              "2023-11-22 00:00:00-05:00  476.799988  482.700012  476.559998  478.000000   \n",
              "2023-11-24 00:00:00-05:00  477.109985  480.399994  475.200012  479.559998   \n",
              "\n",
              "                              Volume  Dividends  Stock Splits  \n",
              "Date                                                           \n",
              "2002-05-23 00:00:00-04:00  104790000        0.0           0.0  \n",
              "2002-05-24 00:00:00-04:00   11104800        0.0           0.0  \n",
              "2002-05-28 00:00:00-04:00    6609400        0.0           0.0  \n",
              "2002-05-29 00:00:00-04:00    6757800        0.0           0.0  \n",
              "2002-05-30 00:00:00-04:00   10154200        0.0           0.0  \n",
              "...                              ...        ...           ...  \n",
              "2023-11-17 00:00:00-05:00    2798500        0.0           0.0  \n",
              "2023-11-20 00:00:00-05:00    3617600        0.0           0.0  \n",
              "2023-11-21 00:00:00-05:00    2997700        0.0           0.0  \n",
              "2023-11-22 00:00:00-05:00    2841600        0.0           0.0  \n",
              "2023-11-24 00:00:00-05:00    1404700        0.0           0.0  \n",
              "\n",
              "[5415 rows x 7 columns]"
            ],
            "text/html": [
              "\n",
              "  <div id=\"df-00d3d7e8-0664-4564-833c-c38605f53add\" class=\"colab-df-container\">\n",
              "    <div>\n",
              "<style scoped>\n",
              "    .dataframe tbody tr th:only-of-type {\n",
              "        vertical-align: middle;\n",
              "    }\n",
              "\n",
              "    .dataframe tbody tr th {\n",
              "        vertical-align: top;\n",
              "    }\n",
              "\n",
              "    .dataframe thead th {\n",
              "        text-align: right;\n",
              "    }\n",
              "</style>\n",
              "<table border=\"1\" class=\"dataframe\">\n",
              "  <thead>\n",
              "    <tr style=\"text-align: right;\">\n",
              "      <th></th>\n",
              "      <th>Open</th>\n",
              "      <th>High</th>\n",
              "      <th>Low</th>\n",
              "      <th>Close</th>\n",
              "      <th>Volume</th>\n",
              "      <th>Dividends</th>\n",
              "      <th>Stock Splits</th>\n",
              "    </tr>\n",
              "    <tr>\n",
              "      <th>Date</th>\n",
              "      <th></th>\n",
              "      <th></th>\n",
              "      <th></th>\n",
              "      <th></th>\n",
              "      <th></th>\n",
              "      <th></th>\n",
              "      <th></th>\n",
              "    </tr>\n",
              "  </thead>\n",
              "  <tbody>\n",
              "    <tr>\n",
              "      <th>2002-05-23 00:00:00-04:00</th>\n",
              "      <td>1.156429</td>\n",
              "      <td>1.242857</td>\n",
              "      <td>1.145714</td>\n",
              "      <td>1.196429</td>\n",
              "      <td>104790000</td>\n",
              "      <td>0.0</td>\n",
              "      <td>0.0</td>\n",
              "    </tr>\n",
              "    <tr>\n",
              "      <th>2002-05-24 00:00:00-04:00</th>\n",
              "      <td>1.214286</td>\n",
              "      <td>1.225000</td>\n",
              "      <td>1.197143</td>\n",
              "      <td>1.210000</td>\n",
              "      <td>11104800</td>\n",
              "      <td>0.0</td>\n",
              "      <td>0.0</td>\n",
              "    </tr>\n",
              "    <tr>\n",
              "      <th>2002-05-28 00:00:00-04:00</th>\n",
              "      <td>1.213571</td>\n",
              "      <td>1.232143</td>\n",
              "      <td>1.157143</td>\n",
              "      <td>1.157143</td>\n",
              "      <td>6609400</td>\n",
              "      <td>0.0</td>\n",
              "      <td>0.0</td>\n",
              "    </tr>\n",
              "    <tr>\n",
              "      <th>2002-05-29 00:00:00-04:00</th>\n",
              "      <td>1.164286</td>\n",
              "      <td>1.164286</td>\n",
              "      <td>1.085714</td>\n",
              "      <td>1.103571</td>\n",
              "      <td>6757800</td>\n",
              "      <td>0.0</td>\n",
              "      <td>0.0</td>\n",
              "    </tr>\n",
              "    <tr>\n",
              "      <th>2002-05-30 00:00:00-04:00</th>\n",
              "      <td>1.107857</td>\n",
              "      <td>1.107857</td>\n",
              "      <td>1.071429</td>\n",
              "      <td>1.071429</td>\n",
              "      <td>10154200</td>\n",
              "      <td>0.0</td>\n",
              "      <td>0.0</td>\n",
              "    </tr>\n",
              "    <tr>\n",
              "      <th>...</th>\n",
              "      <td>...</td>\n",
              "      <td>...</td>\n",
              "      <td>...</td>\n",
              "      <td>...</td>\n",
              "      <td>...</td>\n",
              "      <td>...</td>\n",
              "      <td>...</td>\n",
              "    </tr>\n",
              "    <tr>\n",
              "      <th>2023-11-17 00:00:00-05:00</th>\n",
              "      <td>466.950012</td>\n",
              "      <td>467.649994</td>\n",
              "      <td>462.760010</td>\n",
              "      <td>465.910004</td>\n",
              "      <td>2798500</td>\n",
              "      <td>0.0</td>\n",
              "      <td>0.0</td>\n",
              "    </tr>\n",
              "    <tr>\n",
              "      <th>2023-11-20 00:00:00-05:00</th>\n",
              "      <td>465.399994</td>\n",
              "      <td>476.760010</td>\n",
              "      <td>465.399994</td>\n",
              "      <td>474.470001</td>\n",
              "      <td>3617600</td>\n",
              "      <td>0.0</td>\n",
              "      <td>0.0</td>\n",
              "    </tr>\n",
              "    <tr>\n",
              "      <th>2023-11-21 00:00:00-05:00</th>\n",
              "      <td>472.630005</td>\n",
              "      <td>477.019989</td>\n",
              "      <td>471.209991</td>\n",
              "      <td>474.950012</td>\n",
              "      <td>2997700</td>\n",
              "      <td>0.0</td>\n",
              "      <td>0.0</td>\n",
              "    </tr>\n",
              "    <tr>\n",
              "      <th>2023-11-22 00:00:00-05:00</th>\n",
              "      <td>476.799988</td>\n",
              "      <td>482.700012</td>\n",
              "      <td>476.559998</td>\n",
              "      <td>478.000000</td>\n",
              "      <td>2841600</td>\n",
              "      <td>0.0</td>\n",
              "      <td>0.0</td>\n",
              "    </tr>\n",
              "    <tr>\n",
              "      <th>2023-11-24 00:00:00-05:00</th>\n",
              "      <td>477.109985</td>\n",
              "      <td>480.399994</td>\n",
              "      <td>475.200012</td>\n",
              "      <td>479.559998</td>\n",
              "      <td>1404700</td>\n",
              "      <td>0.0</td>\n",
              "      <td>0.0</td>\n",
              "    </tr>\n",
              "  </tbody>\n",
              "</table>\n",
              "<p>5415 rows × 7 columns</p>\n",
              "</div>\n",
              "    <div class=\"colab-df-buttons\">\n",
              "\n",
              "  <div class=\"colab-df-container\">\n",
              "    <button class=\"colab-df-convert\" onclick=\"convertToInteractive('df-00d3d7e8-0664-4564-833c-c38605f53add')\"\n",
              "            title=\"Convert this dataframe to an interactive table.\"\n",
              "            style=\"display:none;\">\n",
              "\n",
              "  <svg xmlns=\"http://www.w3.org/2000/svg\" height=\"24px\" viewBox=\"0 -960 960 960\">\n",
              "    <path d=\"M120-120v-720h720v720H120Zm60-500h600v-160H180v160Zm220 220h160v-160H400v160Zm0 220h160v-160H400v160ZM180-400h160v-160H180v160Zm440 0h160v-160H620v160ZM180-180h160v-160H180v160Zm440 0h160v-160H620v160Z\"/>\n",
              "  </svg>\n",
              "    </button>\n",
              "\n",
              "  <style>\n",
              "    .colab-df-container {\n",
              "      display:flex;\n",
              "      gap: 12px;\n",
              "    }\n",
              "\n",
              "    .colab-df-convert {\n",
              "      background-color: #E8F0FE;\n",
              "      border: none;\n",
              "      border-radius: 50%;\n",
              "      cursor: pointer;\n",
              "      display: none;\n",
              "      fill: #1967D2;\n",
              "      height: 32px;\n",
              "      padding: 0 0 0 0;\n",
              "      width: 32px;\n",
              "    }\n",
              "\n",
              "    .colab-df-convert:hover {\n",
              "      background-color: #E2EBFA;\n",
              "      box-shadow: 0px 1px 2px rgba(60, 64, 67, 0.3), 0px 1px 3px 1px rgba(60, 64, 67, 0.15);\n",
              "      fill: #174EA6;\n",
              "    }\n",
              "\n",
              "    .colab-df-buttons div {\n",
              "      margin-bottom: 4px;\n",
              "    }\n",
              "\n",
              "    [theme=dark] .colab-df-convert {\n",
              "      background-color: #3B4455;\n",
              "      fill: #D2E3FC;\n",
              "    }\n",
              "\n",
              "    [theme=dark] .colab-df-convert:hover {\n",
              "      background-color: #434B5C;\n",
              "      box-shadow: 0px 1px 3px 1px rgba(0, 0, 0, 0.15);\n",
              "      filter: drop-shadow(0px 1px 2px rgba(0, 0, 0, 0.3));\n",
              "      fill: #FFFFFF;\n",
              "    }\n",
              "  </style>\n",
              "\n",
              "    <script>\n",
              "      const buttonEl =\n",
              "        document.querySelector('#df-00d3d7e8-0664-4564-833c-c38605f53add button.colab-df-convert');\n",
              "      buttonEl.style.display =\n",
              "        google.colab.kernel.accessAllowed ? 'block' : 'none';\n",
              "\n",
              "      async function convertToInteractive(key) {\n",
              "        const element = document.querySelector('#df-00d3d7e8-0664-4564-833c-c38605f53add');\n",
              "        const dataTable =\n",
              "          await google.colab.kernel.invokeFunction('convertToInteractive',\n",
              "                                                    [key], {});\n",
              "        if (!dataTable) return;\n",
              "\n",
              "        const docLinkHtml = 'Like what you see? Visit the ' +\n",
              "          '<a target=\"_blank\" href=https://colab.research.google.com/notebooks/data_table.ipynb>data table notebook</a>'\n",
              "          + ' to learn more about interactive tables.';\n",
              "        element.innerHTML = '';\n",
              "        dataTable['output_type'] = 'display_data';\n",
              "        await google.colab.output.renderOutput(dataTable, element);\n",
              "        const docLink = document.createElement('div');\n",
              "        docLink.innerHTML = docLinkHtml;\n",
              "        element.appendChild(docLink);\n",
              "      }\n",
              "    </script>\n",
              "  </div>\n",
              "\n",
              "\n",
              "<div id=\"df-04ce01eb-30cc-4ea4-9bd3-20f18b030168\">\n",
              "  <button class=\"colab-df-quickchart\" onclick=\"quickchart('df-04ce01eb-30cc-4ea4-9bd3-20f18b030168')\"\n",
              "            title=\"Suggest charts\"\n",
              "            style=\"display:none;\">\n",
              "\n",
              "<svg xmlns=\"http://www.w3.org/2000/svg\" height=\"24px\"viewBox=\"0 0 24 24\"\n",
              "     width=\"24px\">\n",
              "    <g>\n",
              "        <path d=\"M19 3H5c-1.1 0-2 .9-2 2v14c0 1.1.9 2 2 2h14c1.1 0 2-.9 2-2V5c0-1.1-.9-2-2-2zM9 17H7v-7h2v7zm4 0h-2V7h2v10zm4 0h-2v-4h2v4z\"/>\n",
              "    </g>\n",
              "</svg>\n",
              "  </button>\n",
              "\n",
              "<style>\n",
              "  .colab-df-quickchart {\n",
              "      --bg-color: #E8F0FE;\n",
              "      --fill-color: #1967D2;\n",
              "      --hover-bg-color: #E2EBFA;\n",
              "      --hover-fill-color: #174EA6;\n",
              "      --disabled-fill-color: #AAA;\n",
              "      --disabled-bg-color: #DDD;\n",
              "  }\n",
              "\n",
              "  [theme=dark] .colab-df-quickchart {\n",
              "      --bg-color: #3B4455;\n",
              "      --fill-color: #D2E3FC;\n",
              "      --hover-bg-color: #434B5C;\n",
              "      --hover-fill-color: #FFFFFF;\n",
              "      --disabled-bg-color: #3B4455;\n",
              "      --disabled-fill-color: #666;\n",
              "  }\n",
              "\n",
              "  .colab-df-quickchart {\n",
              "    background-color: var(--bg-color);\n",
              "    border: none;\n",
              "    border-radius: 50%;\n",
              "    cursor: pointer;\n",
              "    display: none;\n",
              "    fill: var(--fill-color);\n",
              "    height: 32px;\n",
              "    padding: 0;\n",
              "    width: 32px;\n",
              "  }\n",
              "\n",
              "  .colab-df-quickchart:hover {\n",
              "    background-color: var(--hover-bg-color);\n",
              "    box-shadow: 0 1px 2px rgba(60, 64, 67, 0.3), 0 1px 3px 1px rgba(60, 64, 67, 0.15);\n",
              "    fill: var(--button-hover-fill-color);\n",
              "  }\n",
              "\n",
              "  .colab-df-quickchart-complete:disabled,\n",
              "  .colab-df-quickchart-complete:disabled:hover {\n",
              "    background-color: var(--disabled-bg-color);\n",
              "    fill: var(--disabled-fill-color);\n",
              "    box-shadow: none;\n",
              "  }\n",
              "\n",
              "  .colab-df-spinner {\n",
              "    border: 2px solid var(--fill-color);\n",
              "    border-color: transparent;\n",
              "    border-bottom-color: var(--fill-color);\n",
              "    animation:\n",
              "      spin 1s steps(1) infinite;\n",
              "  }\n",
              "\n",
              "  @keyframes spin {\n",
              "    0% {\n",
              "      border-color: transparent;\n",
              "      border-bottom-color: var(--fill-color);\n",
              "      border-left-color: var(--fill-color);\n",
              "    }\n",
              "    20% {\n",
              "      border-color: transparent;\n",
              "      border-left-color: var(--fill-color);\n",
              "      border-top-color: var(--fill-color);\n",
              "    }\n",
              "    30% {\n",
              "      border-color: transparent;\n",
              "      border-left-color: var(--fill-color);\n",
              "      border-top-color: var(--fill-color);\n",
              "      border-right-color: var(--fill-color);\n",
              "    }\n",
              "    40% {\n",
              "      border-color: transparent;\n",
              "      border-right-color: var(--fill-color);\n",
              "      border-top-color: var(--fill-color);\n",
              "    }\n",
              "    60% {\n",
              "      border-color: transparent;\n",
              "      border-right-color: var(--fill-color);\n",
              "    }\n",
              "    80% {\n",
              "      border-color: transparent;\n",
              "      border-right-color: var(--fill-color);\n",
              "      border-bottom-color: var(--fill-color);\n",
              "    }\n",
              "    90% {\n",
              "      border-color: transparent;\n",
              "      border-bottom-color: var(--fill-color);\n",
              "    }\n",
              "  }\n",
              "</style>\n",
              "\n",
              "  <script>\n",
              "    async function quickchart(key) {\n",
              "      const quickchartButtonEl =\n",
              "        document.querySelector('#' + key + ' button');\n",
              "      quickchartButtonEl.disabled = true;  // To prevent multiple clicks.\n",
              "      quickchartButtonEl.classList.add('colab-df-spinner');\n",
              "      try {\n",
              "        const charts = await google.colab.kernel.invokeFunction(\n",
              "            'suggestCharts', [key], {});\n",
              "      } catch (error) {\n",
              "        console.error('Error during call to suggestCharts:', error);\n",
              "      }\n",
              "      quickchartButtonEl.classList.remove('colab-df-spinner');\n",
              "      quickchartButtonEl.classList.add('colab-df-quickchart-complete');\n",
              "    }\n",
              "    (() => {\n",
              "      let quickchartButtonEl =\n",
              "        document.querySelector('#df-04ce01eb-30cc-4ea4-9bd3-20f18b030168 button');\n",
              "      quickchartButtonEl.style.display =\n",
              "        google.colab.kernel.accessAllowed ? 'block' : 'none';\n",
              "    })();\n",
              "  </script>\n",
              "</div>\n",
              "    </div>\n",
              "  </div>\n"
            ]
          },
          "metadata": {},
          "execution_count": 3
        }
      ]
    },
    {
      "cell_type": "code",
      "source": [
        "closing_prices = stock_history['Close']\n",
        "plt.title(f'Closing Price of (company)')\n",
        "plt.xlabel('Date')\n",
        "plt.ylabel('Closing Price')\n",
        "plt.plot(closing_prices)\n",
        "plt.show()"
      ],
      "metadata": {
        "colab": {
          "base_uri": "https://localhost:8080/",
          "height": 472
        },
        "id": "H33q0LSn_38Y",
        "outputId": "bbb42b89-a986-4561-e0ca-4780dad9b5d5"
      },
      "execution_count": null,
      "outputs": [
        {
          "output_type": "display_data",
          "data": {
            "text/plain": [
              "<Figure size 640x480 with 1 Axes>"
            ],
            "image/png": "[encoded data removed]"
          },
          "metadata": {}
        }
      ]
    },
    {
      "cell_type": "code",
      "source": [
        "training_data, testing_data = train_test_split(stock_history, test_size=0.2, random_state=42,shuffle=True)\n"
      ],
      "metadata": {
        "id": "M6QnQhHBAefK"
      },
      "execution_count": null,
      "outputs": []
    },
    {
      "cell_type": "code",
      "source": [
        "X_train = training_data.drop(['Close','Volume','Dividends','Stock Splits'],axis=1)\n",
        "y_train = training_data['Close']\n",
        "X_test = testing_data.drop(['Close','Volume','Dividends','Stock Splits'],axis=1)\n",
        "y_test = testing_data['Close']"
      ],
      "metadata": {
        "id": "9inLIDS7Dq5K"
      },
      "execution_count": null,
      "outputs": []
    },
    {
      "cell_type": "code",
      "source": [
        "ann_model = Sequential()\n",
        "ann_model.add(Dense(50,activation='relu',kernel_initializer='he_normal',bias_initializer='ones',input_shape=(X_train.shape[1],1)))\n",
        "ann_model.add(Dropout(rate=0.2))\n",
        "ann_model.add(Dense(50,activation='relu',kernel_initializer='he_normal',bias_initializer='ones'))\n",
        "ann_model.add(Dropout(rate=0.2))\n",
        "ann_model.add(Dense(50,activation='relu',kernel_initializer='he_normal',bias_initializer='ones'))\n",
        "ann_model.add(Dense(1,activation='relu',kernel_initializer='he_normal',bias_initializer='ones'))\n",
        "\n",
        "# Checking what the model looks like:\n",
        "ann_model.summary()"
      ],
      "metadata": {
        "colab": {
          "base_uri": "https://localhost:8080/"
        },
        "id": "ZZZjGHR-EVwZ",
        "outputId": "1efbccc8-00f1-428a-cc03-90d1cf44f063"
      },
      "execution_count": null,
      "outputs": [
        {
          "output_type": "stream",
          "name": "stdout",
          "text": [
            "Model: \"sequential\"\n",
            "_________________________________________________________________\n",
            " Layer (type)                Output Shape              Param #   \n",
            "=================================================================\n",
            " dense (Dense)               (None, 3, 50)             100       \n",
            "                                                                 \n",
            " dropout (Dropout)           (None, 3, 50)             0         \n",
            "                                                                 \n",
            " dense_1 (Dense)             (None, 3, 50)             2550      \n",
            "                                                                 \n",
            " dropout_1 (Dropout)         (None, 3, 50)             0         \n",
            "                                                                 \n",
            " dense_2 (Dense)             (None, 3, 50)             2550      \n",
            "                                                                 \n",
            " dense_3 (Dense)             (None, 3, 1)              51        \n",
            "                                                                 \n",
            "=================================================================\n",
            "Total params: 5251 (20.51 KB)\n",
            "Trainable params: 5251 (20.51 KB)\n",
            "Non-trainable params: 0 (0.00 Byte)\n",
            "_________________________________________________________________\n"
          ]
        }
      ]
    },
    {
      "cell_type": "code",
      "source": [
        "optimizer = keras.optimizers.SGD(learning_rate=0.0006)\n",
        "loss_function = keras.losses.MeanSquaredError()\n",
        "ann_model.compile(optimizer,loss_function)"
      ],
      "metadata": {
        "id": "LuUuSLxAJUKs"
      },
      "execution_count": null,
      "outputs": []
    },
    {
      "cell_type": "code",
      "source": [
        "history = ann_model.fit(X_train,y_train,batch_size=32,epochs=10,shuffle=True)"
      ],
      "metadata": {
        "colab": {
          "base_uri": "https://localhost:8080/"
        },
        "id": "rVnf6rCSKBVR",
        "outputId": "d4c0cc4d-0ffb-418f-a2a3-6e7eaada4e38"
      },
      "execution_count": null,
      "outputs": [
        {
          "output_type": "stream",
          "name": "stdout",
          "text": [
            "Epoch 1/10\n",
            "136/136 [==============================] - 1s 5ms/step - loss: nan\n",
            "Epoch 2/10\n",
            "136/136 [==============================] - 1s 4ms/step - loss: nan\n",
            "Epoch 3/10\n",
            "136/136 [==============================] - 1s 5ms/step - loss: nan\n",
            "Epoch 4/10\n",
            "136/136 [==============================] - 1s 5ms/step - loss: nan\n",
            "Epoch 5/10\n",
            "136/136 [==============================] - 1s 5ms/step - loss: nan\n",
            "Epoch 6/10\n",
            "136/136 [==============================] - 1s 5ms/step - loss: nan\n",
            "Epoch 7/10\n",
            "136/136 [==============================] - 1s 4ms/step - loss: nan\n",
            "Epoch 8/10\n",
            "136/136 [==============================] - 1s 4ms/step - loss: nan\n",
            "Epoch 9/10\n",
            "136/136 [==============================] - 1s 5ms/step - loss: nan\n",
            "Epoch 10/10\n",
            "136/136 [==============================] - 1s 5ms/step - loss: nan\n"
          ]
        }
      ]
    },
    {
      "cell_type": "code",
      "source": [
        "training_loss = ann_model.evaluate(X_train,y_train,batch_size=32,verbose=0)\n",
        "print(f'Training Loss in Dollars: ${np.sqrt(training_loss)}')"
      ],
      "metadata": {
        "colab": {
          "base_uri": "https://localhost:8080/"
        },
        "id": "LXMuNzirKYfW",
        "outputId": "2451352a-e1bf-44b7-a528-edefb36fb135"
      },
      "execution_count": null,
      "outputs": [
        {
          "output_type": "stream",
          "name": "stdout",
          "text": [
            "Training Loss in Dollars: $nan\n"
          ]
        }
      ]
    },
    {
      "cell_type": "code",
      "source": [
        "raw_sequence_data_X = []\n",
        "raw_sequence_data_Y = []\n",
        "data_list = stock_history.drop(['Volume','Dividends','Stock Splits'],axis=1).values\n",
        "# Iterating through each example in the stock data\n",
        "for i in range(len(data_list)):\n",
        "  sequence = [[0]*4] * 10 # creating a list of ten zeros\n",
        "\n",
        "  # Checking if there are 10 days worth of past stock data\n",
        "  if i < 10:\n",
        "    for x in range(i):\n",
        "      sequence[x] = list(data_list[x])\n",
        "  else:\n",
        "    index = 0\n",
        "    for x in range(i-10,i):\n",
        "      sequence[index] = list(data_list[x])\n",
        "      index += 1\n",
        "  raw_sequence_data_X.append(sequence)\n",
        "  raw_sequence_data_Y.append(data_list[i][3])"
      ],
      "metadata": {
        "id": "hpGsBcSIMnkk"
      },
      "execution_count": null,
      "outputs": []
    },
    {
      "cell_type": "code",
      "source": [
        "sequence_X = np.array(raw_sequence_data_X)\n",
        "sequence_Y = np.array(raw_sequence_data_Y)\n",
        "\n",
        "# Checking the shape\n",
        "sequence_X.shape"
      ],
      "metadata": {
        "colab": {
          "base_uri": "https://localhost:8080/"
        },
        "id": "Qz_tqGcjNPOa",
        "outputId": "b09be6ca-74d6-458f-8c14-b328a3a7b88d"
      },
      "execution_count": null,
      "outputs": [
        {
          "output_type": "execute_result",
          "data": {
            "text/plain": [
              "(5415, 10, 4)"
            ]
          },
          "metadata": {},
          "execution_count": 14
        }
      ]
    },
    {
      "cell_type": "code",
      "source": [
        "X_train, X_test, y_train, y_test = train_test_split(sequence_X,sequence_Y,test_size=0.2,random_state=42,shuffle=True)"
      ],
      "metadata": {
        "id": "rntlBW2NN8JI"
      },
      "execution_count": null,
      "outputs": []
    },
    {
      "cell_type": "code",
      "source": [
        "rnn_model = Sequential()\n",
        "\n",
        "# The 50 refers to how big the output vector is\n",
        "rnn_model.add(SimpleRNN(50,activation='tanh',bias_initializer='ones',return_sequences=False,input_shape=(X_train.shape[1],X_train.shape[2])))\n",
        "\n",
        "# i get 50 dimensional vector as output but i need one number so i add an on top of rnn\n",
        "rnn_model.add(Dense(25,activation='relu',kernel_initializer='he_normal',bias_initializer='ones'))\n",
        "rnn_model.add(Dense(1,activation='relu',kernel_initializer='he_normal',bias_initializer='ones'))\n",
        "\n",
        "rnn_model.summary()"
      ],
      "metadata": {
        "colab": {
          "base_uri": "https://localhost:8080/"
        },
        "id": "b4yCCU6CfKQ6",
        "outputId": "53ec3ef1-48f0-470b-fc7b-f00329a800aa"
      },
      "execution_count": null,
      "outputs": [
        {
          "output_type": "stream",
          "name": "stdout",
          "text": [
            "Model: \"sequential_1\"\n",
            "_________________________________________________________________\n",
            " Layer (type)                Output Shape              Param #   \n",
            "=================================================================\n",
            " simple_rnn (SimpleRNN)      (None, 50)                2750      \n",
            "                                                                 \n",
            " dense_4 (Dense)             (None, 25)                1275      \n",
            "                                                                 \n",
            " dense_5 (Dense)             (None, 1)                 26        \n",
            "                                                                 \n",
            "=================================================================\n",
            "Total params: 4051 (15.82 KB)\n",
            "Trainable params: 4051 (15.82 KB)\n",
            "Non-trainable params: 0 (0.00 Byte)\n",
            "_________________________________________________________________\n"
          ]
        }
      ]
    },
    {
      "cell_type": "code",
      "source": [
        "optimizer = keras.optimizers.SGD(learning_rate=0.001)\n",
        "loss_function = keras.losses.MeanSquaredError()\n",
        "rnn_model.compile(optimizer=optimizer,loss=loss_function)"
      ],
      "metadata": {
        "id": "JHIQMWvQjo92"
      },
      "execution_count": null,
      "outputs": []
    },
    {
      "cell_type": "code",
      "source": [
        "training_loss = rnn_model.evaluate(X_train,y_train,batch_size=32,verbose=0)\n",
        "print(f'Training Loss in Dollars: ${np.sqrt(training_loss)}')"
      ],
      "metadata": {
        "colab": {
          "base_uri": "https://localhost:8080/"
        },
        "id": "g0mNqaYtjrjT",
        "outputId": "7341491f-a95f-46a9-b658-470412407e9a"
      },
      "execution_count": null,
      "outputs": [
        {
          "output_type": "stream",
          "name": "stdout",
          "text": [
            "Training Loss in Dollars: $218.18271084689547\n"
          ]
        }
      ]
    },
    {
      "cell_type": "code",
      "source": [
        "testing_loss = rnn_model.evaluate(X_test,y_test,batch_size=32,verbose=0)\n",
        "print(f'Testing Loss in Dollars: ${np.sqrt(testing_loss)}')"
      ],
      "metadata": {
        "colab": {
          "base_uri": "https://localhost:8080/"
        },
        "id": "Xx1hxPOojut5",
        "outputId": "fcd5cc12-b761-4aee-f228-f13b1e6f0861"
      },
      "execution_count": null,
      "outputs": [
        {
          "output_type": "stream",
          "name": "stdout",
          "text": [
            "Testing Loss in Dollars: $210.20616739881825\n"
          ]
        }
      ]
    },
    {
      "cell_type": "code",
      "source": [
        "gru_model = Sequential()\n",
        "gru_model.add(GRU(50,activation='tanh',bias_initializer='ones',return_sequences=False,input_shape=(X_train.shape[1],X_train.shape[2])))\n",
        "\n",
        "# At the end of our GRU, i get a 40 dimensional vector as our output.\n",
        "# We need a single number so i add an ANN on top of this RNN.\n",
        "gru_model.add(Dense(25,activation='relu',kernel_initializer='he_normal',bias_initializer='ones'))\n",
        "gru_model.add(Dense(1,activation='relu',kernel_initializer='he_normal',bias_initializer='ones'))\n",
        "\n",
        "gru_model.summary()"
      ],
      "metadata": {
        "colab": {
          "base_uri": "https://localhost:8080/"
        },
        "id": "OH_oyPybkjTO",
        "outputId": "2a8fc4b2-2c0c-4f22-fb0e-442f6eec7ae6"
      },
      "execution_count": null,
      "outputs": [
        {
          "output_type": "stream",
          "name": "stdout",
          "text": [
            "Model: \"sequential_2\"\n",
            "_________________________________________________________________\n",
            " Layer (type)                Output Shape              Param #   \n",
            "=================================================================\n",
            " gru (GRU)                   (None, 50)                8400      \n",
            "                                                                 \n",
            " dense_6 (Dense)             (None, 25)                1275      \n",
            "                                                                 \n",
            " dense_7 (Dense)             (None, 1)                 26        \n",
            "                                                                 \n",
            "=================================================================\n",
            "Total params: 9701 (37.89 KB)\n",
            "Trainable params: 9701 (37.89 KB)\n",
            "Non-trainable params: 0 (0.00 Byte)\n",
            "_________________________________________________________________\n"
          ]
        }
      ]
    },
    {
      "cell_type": "code",
      "source": [
        "optimizer = keras.optimizers.SGD(learning_rate=0.001)\n",
        "loss_function = keras.losses.MeanSquaredError()\n",
        "gru_model.compile(optimizer=optimizer,loss=loss_function)"
      ],
      "metadata": {
        "id": "A4RAR2r_kvka"
      },
      "execution_count": null,
      "outputs": []
    },
    {
      "cell_type": "code",
      "source": [
        "history = gru_model.fit(X_train,y_train,batch_size=32,epochs=5,shuffle=True)"
      ],
      "metadata": {
        "colab": {
          "base_uri": "https://localhost:8080/"
        },
        "id": "Jgz7x91Yk1uA",
        "outputId": "9952a0dc-326a-420f-b917-dd659ec87bf1"
      },
      "execution_count": null,
      "outputs": [
        {
          "output_type": "stream",
          "name": "stdout",
          "text": [
            "Epoch 1/5\n"
          ]
        },
        {
          "output_type": "stream",
          "name": "stderr",
          "text": [
            "Exception ignored in: <function _xla_gc_callback at 0x7d598d179480>\n",
            "Traceback (most recent call last):\n",
            "  File \"/usr/local/lib/python3.10/dist-packages/jax/_src/lib/__init__.py\", line 101, in _xla_gc_callback\n",
            "    def _xla_gc_callback(*args):\n",
            "KeyboardInterrupt: \n"
          ]
        },
        {
          "output_type": "stream",
          "name": "stdout",
          "text": [
            "136/136 [==============================] - 37s 4ms/step - loss: 47335.8164\n",
            "Epoch 2/5\n",
            "136/136 [==============================] - 1s 4ms/step - loss: 47604.3633\n",
            "Epoch 3/5\n",
            "136/136 [==============================] - 1s 4ms/step - loss: 47604.3633\n",
            "Epoch 4/5\n",
            "136/136 [==============================] - 1s 4ms/step - loss: 47604.3711\n",
            "Epoch 5/5\n",
            "136/136 [==============================] - 1s 6ms/step - loss: 47604.3555\n"
          ]
        }
      ]
    },
    {
      "cell_type": "code",
      "source": [
        "training_loss = gru_model.evaluate(X_train,y_train,batch_size=32,verbose=0)\n",
        "print(f'Training Loss in Dollars: ${np.sqrt(training_loss)}')"
      ],
      "metadata": {
        "id": "FkPuzGz6laqU",
        "colab": {
          "base_uri": "https://localhost:8080/"
        },
        "outputId": "424059fd-866d-461e-f772-fe00d0257d46"
      },
      "execution_count": null,
      "outputs": [
        {
          "output_type": "stream",
          "name": "stdout",
          "text": [
            "Training Loss in Dollars: $218.18423264525785\n"
          ]
        }
      ]
    },
    {
      "cell_type": "code",
      "source": [
        "testing_loss = gru_model.evaluate(X_test,y_test,batch_size=32,verbose=0)\n",
        "print(f'Testing Loss in Dollars: ${np.sqrt(testing_loss)}')"
      ],
      "metadata": {
        "colab": {
          "base_uri": "https://localhost:8080/"
        },
        "id": "Ls1ITwbqleqB",
        "outputId": "b5e8de3d-a349-42b8-8643-c3c1cd0f904c"
      },
      "execution_count": null,
      "outputs": [
        {
          "output_type": "stream",
          "name": "stdout",
          "text": [
            "Testing Loss in Dollars: $210.20786773156232\n"
          ]
        }
      ]
    },
    {
      "cell_type": "code",
      "source": [
        "lstm_model = Sequential()\n",
        "lstm_model.add(LSTM(30,activation='tanh',recurrent_activation='sigmoid',bias_initializer='ones',return_sequences=False,input_shape=(X_train.shape[1],X_train.shape[2])))\n",
        "\n",
        "# At the end of the LSTM, i get a 50 dimensional vector as the output.\n",
        "# i need a single number so i add an ANN on top of this RNN.\n",
        "lstm_model.add(Dense(25,activation='relu',kernel_initializer='he_normal',bias_initializer='ones'))\n",
        "lstm_model.add(Dense(1,activation='relu',kernel_initializer='he_normal',bias_initializer='ones'))\n",
        "\n",
        "lstm_model.summary()"
      ],
      "metadata": {
        "colab": {
          "base_uri": "https://localhost:8080/"
        },
        "id": "eseQU8Zplhg_",
        "outputId": "a41db113-5c02-4e6c-fd04-32e2b2575581"
      },
      "execution_count": null,
      "outputs": [
        {
          "output_type": "stream",
          "name": "stdout",
          "text": [
            "Model: \"sequential_3\"\n",
            "_________________________________________________________________\n",
            " Layer (type)                Output Shape              Param #   \n",
            "=================================================================\n",
            " lstm (LSTM)                 (None, 30)                4200      \n",
            "                                                                 \n",
            " dense_8 (Dense)             (None, 25)                775       \n",
            "                                                                 \n",
            " dense_9 (Dense)             (None, 1)                 26        \n",
            "                                                                 \n",
            "=================================================================\n",
            "Total params: 5001 (19.54 KB)\n",
            "Trainable params: 5001 (19.54 KB)\n",
            "Non-trainable params: 0 (0.00 Byte)\n",
            "_________________________________________________________________\n"
          ]
        }
      ]
    },
    {
      "cell_type": "code",
      "source": [
        "optimizer = keras.optimizers.SGD(learning_rate=0.001)\n",
        "loss_function = keras.losses.MeanSquaredError()\n",
        "lstm_model.compile(optimizer=optimizer,loss=loss_function)"
      ],
      "metadata": {
        "id": "xFrhSOIqlyOK"
      },
      "execution_count": null,
      "outputs": []
    },
    {
      "cell_type": "code",
      "source": [
        "history = lstm_model.fit(X_train,y_train,batch_size=32,epochs=5,shuffle=True)"
      ],
      "metadata": {
        "colab": {
          "base_uri": "https://localhost:8080/"
        },
        "id": "OHWbSk18l0mz",
        "outputId": "5b68c574-3a5f-48c3-8eac-a3f5414c4b8d"
      },
      "execution_count": null,
      "outputs": [
        {
          "output_type": "stream",
          "name": "stdout",
          "text": [
            "Epoch 1/5\n",
            "136/136 [==============================] - 3s 6ms/step - loss: 36636.0234\n",
            "Epoch 2/5\n",
            "136/136 [==============================] - 1s 6ms/step - loss: 40970.5156\n",
            "Epoch 3/5\n",
            "136/136 [==============================] - 1s 6ms/step - loss: 36402.8008\n",
            "Epoch 4/5\n",
            "136/136 [==============================] - 1s 5ms/step - loss: 33761.5078\n",
            "Epoch 5/5\n",
            "136/136 [==============================] - 1s 5ms/step - loss: 32221.0273\n"
          ]
        }
      ]
    },
    {
      "cell_type": "code",
      "source": [
        "training_loss = lstm_model.evaluate(X_train,y_train,batch_size=32,verbose=0)\n",
        "print(f'Training Loss in Dollars: ${np.sqrt(training_loss)}')"
      ],
      "metadata": {
        "colab": {
          "base_uri": "https://localhost:8080/"
        },
        "id": "vXG85xMPl33s",
        "outputId": "da2bfadf-6963-4531-86b3-3a8dff177714"
      },
      "execution_count": null,
      "outputs": [
        {
          "output_type": "stream",
          "name": "stdout",
          "text": [
            "Training Loss in Dollars: $178.00995188120802\n"
          ]
        }
      ]
    },
    {
      "cell_type": "code",
      "source": [
        "testing_loss = lstm_model.evaluate(X_test,y_test,batch_size=32,verbose=0)\n",
        "print(f'Testing Loss in Dollars: ${np.sqrt(testing_loss)}')"
      ],
      "metadata": {
        "colab": {
          "base_uri": "https://localhost:8080/"
        },
        "id": "RPQQd4U3l6Kj",
        "outputId": "5c9f4e54-66a6-4a9f-9298-fe0106cbef16"
      },
      "execution_count": null,
      "outputs": [
        {
          "output_type": "stream",
          "name": "stdout",
          "text": [
            "Testing Loss in Dollars: $172.00361664983967\n"
          ]
        }
      ]
    }
  ]
}